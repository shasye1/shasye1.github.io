{
 "cells": [
  {
   "cell_type": "markdown",
   "metadata": {},
   "source": [
    "# Final Project\n",
    "## Jasmine Dumas (1523905)\n",
    "## CSC 478: Programming Machine Learning Applications - Autumn 2016\n",
    "## Due: Tuesday, November 22, 2016\n",
    "\n",
    "____\n",
    "\n",
    "#### Final Project Objective: \n",
    "* Analyze Lending Club's issued loans: https://www.kaggle.com/wendykan/lending-club-loan-data\n",
    "\n",
    "#### Data Analysis Tasks:\n",
    "\n",
    "1. Supervised Learning: Classifier using k Nearest Neighbor of payment status (Current, Late, Fully Paid, etc.)\n",
    "  1. Exploratory Data Analysis\n",
    "  2. Pre-processing & Data Cleaning\n",
    "  3. Building the Classifier\n",
    "  4. Evaluating the model\n",
    "\n"
   ]
  },
  {
   "cell_type": "markdown",
   "metadata": {},
   "source": [
    "## 1. Load Libraries"
   ]
  },
  {
   "cell_type": "code",
   "execution_count": 48,
   "metadata": {
    "collapsed": true
   },
   "outputs": [],
   "source": [
    "## load libraries\n",
    "import sys\n",
    "from numpy import *\n",
    "import numpy as np\n",
    "import pandas as pd\n",
    "import matplotlib.pyplot as plt\n",
    "import operator\n",
    "%matplotlib inline\n",
    "from sklearn.feature_extraction import DictVectorizer\n",
    "from sklearn import preprocessing\n",
    "from sklearn import neighbors, tree, naive_bayes\n",
    "from sklearn.metrics import confusion_matrix\n",
    "from sklearn.metrics import classification_report\n",
    "from sklearn.cross_validation import train_test_split\n",
    "from sklearn.neighbors import KNeighborsClassifier"
   ]
  },
  {
   "cell_type": "markdown",
   "metadata": {},
   "source": [
    "## 2. Load the data"
   ]
  },
  {
   "cell_type": "code",
   "execution_count": 49,
   "metadata": {
    "collapsed": false
   },
   "outputs": [],
   "source": [
    "data = pd.read_csv(\"loan.csv\", low_memory=False)"
   ]
  },
  {
   "cell_type": "markdown",
   "metadata": {},
   "source": [
    "### a. Data reduction for computation\n",
    "* From previous attempts to create a model matrix below and having the kernal crash, I'm going to reduce the data set size to compute better by selecting a random sample of 20% from the original dataset"
   ]
  },
  {
   "cell_type": "code",
   "execution_count": 50,
   "metadata": {
    "collapsed": false
   },
   "outputs": [],
   "source": [
    "# 5% of the data without replacement\n",
    "data = data.sample(frac=0.05, replace=False, random_state=123)  "
   ]
  },
  {
   "cell_type": "markdown",
   "metadata": {},
   "source": [
    "## 3. Explore the data\n",
    "* visaully and descriptive methods"
   ]
  },
  {
   "cell_type": "code",
   "execution_count": 51,
   "metadata": {
    "collapsed": false
   },
   "outputs": [
    {
     "data": {
      "text/plain": [
       "(44369, 74)"
      ]
     },
     "execution_count": 51,
     "metadata": {},
     "output_type": "execute_result"
    }
   ],
   "source": [
    "data.shape"
   ]
  },
  {
   "cell_type": "code",
   "execution_count": 52,
   "metadata": {
    "collapsed": false
   },
   "outputs": [
    {
     "data": {
      "text/html": [
       "<div>\n",
       "<table border=\"1\" class=\"dataframe\">\n",
       "  <thead>\n",
       "    <tr style=\"text-align: right;\">\n",
       "      <th></th>\n",
       "      <th>id</th>\n",
       "      <th>member_id</th>\n",
       "      <th>loan_amnt</th>\n",
       "      <th>funded_amnt</th>\n",
       "      <th>funded_amnt_inv</th>\n",
       "      <th>term</th>\n",
       "      <th>int_rate</th>\n",
       "      <th>installment</th>\n",
       "      <th>grade</th>\n",
       "      <th>sub_grade</th>\n",
       "      <th>...</th>\n",
       "      <th>total_bal_il</th>\n",
       "      <th>il_util</th>\n",
       "      <th>open_rv_12m</th>\n",
       "      <th>open_rv_24m</th>\n",
       "      <th>max_bal_bc</th>\n",
       "      <th>all_util</th>\n",
       "      <th>total_rev_hi_lim</th>\n",
       "      <th>inq_fi</th>\n",
       "      <th>total_cu_tl</th>\n",
       "      <th>inq_last_12m</th>\n",
       "    </tr>\n",
       "  </thead>\n",
       "  <tbody>\n",
       "    <tr>\n",
       "      <th>70467</th>\n",
       "      <td>8556040</td>\n",
       "      <td>10308118</td>\n",
       "      <td>13000.0</td>\n",
       "      <td>13000.0</td>\n",
       "      <td>12950.0</td>\n",
       "      <td>36 months</td>\n",
       "      <td>9.67</td>\n",
       "      <td>417.47</td>\n",
       "      <td>B</td>\n",
       "      <td>B1</td>\n",
       "      <td>...</td>\n",
       "      <td>NaN</td>\n",
       "      <td>NaN</td>\n",
       "      <td>NaN</td>\n",
       "      <td>NaN</td>\n",
       "      <td>NaN</td>\n",
       "      <td>NaN</td>\n",
       "      <td>19200.0</td>\n",
       "      <td>NaN</td>\n",
       "      <td>NaN</td>\n",
       "      <td>NaN</td>\n",
       "    </tr>\n",
       "    <tr>\n",
       "      <th>165635</th>\n",
       "      <td>3355435</td>\n",
       "      <td>4168922</td>\n",
       "      <td>8000.0</td>\n",
       "      <td>8000.0</td>\n",
       "      <td>8000.0</td>\n",
       "      <td>36 months</td>\n",
       "      <td>13.11</td>\n",
       "      <td>269.98</td>\n",
       "      <td>B</td>\n",
       "      <td>B4</td>\n",
       "      <td>...</td>\n",
       "      <td>NaN</td>\n",
       "      <td>NaN</td>\n",
       "      <td>NaN</td>\n",
       "      <td>NaN</td>\n",
       "      <td>NaN</td>\n",
       "      <td>NaN</td>\n",
       "      <td>12400.0</td>\n",
       "      <td>NaN</td>\n",
       "      <td>NaN</td>\n",
       "      <td>NaN</td>\n",
       "    </tr>\n",
       "    <tr>\n",
       "      <th>496523</th>\n",
       "      <td>66611115</td>\n",
       "      <td>71336859</td>\n",
       "      <td>10000.0</td>\n",
       "      <td>10000.0</td>\n",
       "      <td>10000.0</td>\n",
       "      <td>36 months</td>\n",
       "      <td>10.64</td>\n",
       "      <td>325.69</td>\n",
       "      <td>B</td>\n",
       "      <td>B4</td>\n",
       "      <td>...</td>\n",
       "      <td>NaN</td>\n",
       "      <td>NaN</td>\n",
       "      <td>NaN</td>\n",
       "      <td>NaN</td>\n",
       "      <td>NaN</td>\n",
       "      <td>NaN</td>\n",
       "      <td>18200.0</td>\n",
       "      <td>NaN</td>\n",
       "      <td>NaN</td>\n",
       "      <td>NaN</td>\n",
       "    </tr>\n",
       "    <tr>\n",
       "      <th>182496</th>\n",
       "      <td>1685370</td>\n",
       "      <td>1967570</td>\n",
       "      <td>16000.0</td>\n",
       "      <td>16000.0</td>\n",
       "      <td>16000.0</td>\n",
       "      <td>36 months</td>\n",
       "      <td>15.80</td>\n",
       "      <td>560.94</td>\n",
       "      <td>C</td>\n",
       "      <td>C3</td>\n",
       "      <td>...</td>\n",
       "      <td>NaN</td>\n",
       "      <td>NaN</td>\n",
       "      <td>NaN</td>\n",
       "      <td>NaN</td>\n",
       "      <td>NaN</td>\n",
       "      <td>NaN</td>\n",
       "      <td>24000.0</td>\n",
       "      <td>NaN</td>\n",
       "      <td>NaN</td>\n",
       "      <td>NaN</td>\n",
       "    </tr>\n",
       "    <tr>\n",
       "      <th>554977</th>\n",
       "      <td>63286796</td>\n",
       "      <td>67528574</td>\n",
       "      <td>10000.0</td>\n",
       "      <td>10000.0</td>\n",
       "      <td>10000.0</td>\n",
       "      <td>36 months</td>\n",
       "      <td>7.89</td>\n",
       "      <td>312.86</td>\n",
       "      <td>A</td>\n",
       "      <td>A5</td>\n",
       "      <td>...</td>\n",
       "      <td>NaN</td>\n",
       "      <td>NaN</td>\n",
       "      <td>NaN</td>\n",
       "      <td>NaN</td>\n",
       "      <td>NaN</td>\n",
       "      <td>NaN</td>\n",
       "      <td>13000.0</td>\n",
       "      <td>NaN</td>\n",
       "      <td>NaN</td>\n",
       "      <td>NaN</td>\n",
       "    </tr>\n",
       "  </tbody>\n",
       "</table>\n",
       "<p>5 rows × 74 columns</p>\n",
       "</div>"
      ],
      "text/plain": [
       "              id  member_id  loan_amnt  funded_amnt  funded_amnt_inv  \\\n",
       "70467    8556040   10308118    13000.0      13000.0          12950.0   \n",
       "165635   3355435    4168922     8000.0       8000.0           8000.0   \n",
       "496523  66611115   71336859    10000.0      10000.0          10000.0   \n",
       "182496   1685370    1967570    16000.0      16000.0          16000.0   \n",
       "554977  63286796   67528574    10000.0      10000.0          10000.0   \n",
       "\n",
       "              term  int_rate  installment grade sub_grade     ...       \\\n",
       "70467    36 months      9.67       417.47     B        B1     ...        \n",
       "165635   36 months     13.11       269.98     B        B4     ...        \n",
       "496523   36 months     10.64       325.69     B        B4     ...        \n",
       "182496   36 months     15.80       560.94     C        C3     ...        \n",
       "554977   36 months      7.89       312.86     A        A5     ...        \n",
       "\n",
       "       total_bal_il il_util open_rv_12m  open_rv_24m max_bal_bc all_util  \\\n",
       "70467           NaN     NaN         NaN          NaN        NaN      NaN   \n",
       "165635          NaN     NaN         NaN          NaN        NaN      NaN   \n",
       "496523          NaN     NaN         NaN          NaN        NaN      NaN   \n",
       "182496          NaN     NaN         NaN          NaN        NaN      NaN   \n",
       "554977          NaN     NaN         NaN          NaN        NaN      NaN   \n",
       "\n",
       "       total_rev_hi_lim inq_fi total_cu_tl inq_last_12m  \n",
       "70467           19200.0    NaN         NaN          NaN  \n",
       "165635          12400.0    NaN         NaN          NaN  \n",
       "496523          18200.0    NaN         NaN          NaN  \n",
       "182496          24000.0    NaN         NaN          NaN  \n",
       "554977          13000.0    NaN         NaN          NaN  \n",
       "\n",
       "[5 rows x 74 columns]"
      ]
     },
     "execution_count": 52,
     "metadata": {},
     "output_type": "execute_result"
    }
   ],
   "source": [
    "data.head(n=5)"
   ]
  },
  {
   "cell_type": "code",
   "execution_count": 53,
   "metadata": {
    "collapsed": false
   },
   "outputs": [
    {
     "data": {
      "text/plain": [
       "Index(['id', 'member_id', 'loan_amnt', 'funded_amnt', 'funded_amnt_inv',\n",
       "       'term', 'int_rate', 'installment', 'grade', 'sub_grade', 'emp_title',\n",
       "       'emp_length', 'home_ownership', 'annual_inc', 'verification_status',\n",
       "       'issue_d', 'loan_status', 'pymnt_plan', 'url', 'desc', 'purpose',\n",
       "       'title', 'zip_code', 'addr_state', 'dti', 'delinq_2yrs',\n",
       "       'earliest_cr_line', 'inq_last_6mths', 'mths_since_last_delinq',\n",
       "       'mths_since_last_record', 'open_acc', 'pub_rec', 'revol_bal',\n",
       "       'revol_util', 'total_acc', 'initial_list_status', 'out_prncp',\n",
       "       'out_prncp_inv', 'total_pymnt', 'total_pymnt_inv', 'total_rec_prncp',\n",
       "       'total_rec_int', 'total_rec_late_fee', 'recoveries',\n",
       "       'collection_recovery_fee', 'last_pymnt_d', 'last_pymnt_amnt',\n",
       "       'next_pymnt_d', 'last_credit_pull_d', 'collections_12_mths_ex_med',\n",
       "       'mths_since_last_major_derog', 'policy_code', 'application_type',\n",
       "       'annual_inc_joint', 'dti_joint', 'verification_status_joint',\n",
       "       'acc_now_delinq', 'tot_coll_amt', 'tot_cur_bal', 'open_acc_6m',\n",
       "       'open_il_6m', 'open_il_12m', 'open_il_24m', 'mths_since_rcnt_il',\n",
       "       'total_bal_il', 'il_util', 'open_rv_12m', 'open_rv_24m', 'max_bal_bc',\n",
       "       'all_util', 'total_rev_hi_lim', 'inq_fi', 'total_cu_tl',\n",
       "       'inq_last_12m'],\n",
       "      dtype='object')"
      ]
     },
     "execution_count": 53,
     "metadata": {},
     "output_type": "execute_result"
    }
   ],
   "source": [
    "data.columns"
   ]
  },
  {
   "cell_type": "markdown",
   "metadata": {},
   "source": [
    "The **loan_status** column is the target!"
   ]
  },
  {
   "cell_type": "markdown",
   "metadata": {},
   "source": [
    "### a. How many classes are there?"
   ]
  },
  {
   "cell_type": "code",
   "execution_count": 54,
   "metadata": {
    "collapsed": false
   },
   "outputs": [
    {
     "data": {
      "text/plain": [
       "array(['Current', 'Fully Paid', 'Charged Off', 'In Grace Period',\n",
       "       'Late (31-120 days)', 'Issued', 'Default', 'Late (16-30 days)',\n",
       "       'Does not meet the credit policy. Status:Fully Paid',\n",
       "       'Does not meet the credit policy. Status:Charged Off'], dtype=object)"
      ]
     },
     "execution_count": 54,
     "metadata": {},
     "output_type": "execute_result"
    }
   ],
   "source": [
    "pd.unique(data['loan_status'].values.ravel())"
   ]
  },
  {
   "cell_type": "code",
   "execution_count": 55,
   "metadata": {
    "collapsed": false
   },
   "outputs": [
    {
     "name": "stdout",
     "output_type": "stream",
     "text": [
      "Amount of Classes:  10\n"
     ]
    }
   ],
   "source": [
    "print(\"Amount of Classes: \", len(pd.unique(data['loan_status'].values.ravel())))"
   ]
  },
  {
   "cell_type": "code",
   "execution_count": 56,
   "metadata": {
    "collapsed": false
   },
   "outputs": [
    {
     "data": {
      "text/plain": [
       "860"
      ]
     },
     "execution_count": 56,
     "metadata": {},
     "output_type": "execute_result"
    }
   ],
   "source": [
    "len(pd.unique(data['zip_code'].values.ravel())) # want to make sure this was not too unique"
   ]
  },
  {
   "cell_type": "code",
   "execution_count": 57,
   "metadata": {
    "collapsed": false
   },
   "outputs": [
    {
     "data": {
      "text/plain": [
       "44369"
      ]
     },
     "execution_count": 57,
     "metadata": {},
     "output_type": "execute_result"
    }
   ],
   "source": [
    "len(pd.unique(data['url'].values.ravel())) # drop url"
   ]
  },
  {
   "cell_type": "code",
   "execution_count": 58,
   "metadata": {
    "collapsed": false,
    "scrolled": true
   },
   "outputs": [
    {
     "data": {
      "text/plain": [
       "94"
      ]
     },
     "execution_count": 58,
     "metadata": {},
     "output_type": "execute_result"
    }
   ],
   "source": [
    "len(pd.unique(data['last_pymnt_d'].values.ravel()))"
   ]
  },
  {
   "cell_type": "code",
   "execution_count": 59,
   "metadata": {
    "collapsed": false
   },
   "outputs": [
    {
     "data": {
      "text/plain": [
       "64"
      ]
     },
     "execution_count": 59,
     "metadata": {},
     "output_type": "execute_result"
    }
   ],
   "source": [
    "len(pd.unique(data['next_pymnt_d'].values.ravel()))"
   ]
  },
  {
   "cell_type": "code",
   "execution_count": 60,
   "metadata": {
    "collapsed": false
   },
   "outputs": [
    {
     "name": "stdout",
     "output_type": "stream",
     "text": [
      "Column term has 2 unique instances\n",
      "Column grade has 7 unique instances\n",
      "Column sub_grade has 35 unique instances\n",
      "Column emp_title has 23766 unique instances\n",
      "Column emp_length has 12 unique instances\n",
      "Column home_ownership has 5 unique instances\n",
      "Column verification_status has 3 unique instances\n",
      "Column issue_d has 102 unique instances\n",
      "Column loan_status has 10 unique instances\n",
      "Column pymnt_plan has 1 unique instances\n",
      "Column url has 44369 unique instances\n",
      "Column desc has 6294 unique instances\n",
      "Column purpose has 14 unique instances\n",
      "Column title has 4681 unique instances\n",
      "Column zip_code has 860 unique instances\n",
      "Column addr_state has 50 unique instances\n",
      "Column earliest_cr_line has 591 unique instances\n",
      "Column initial_list_status has 2 unique instances\n",
      "Column last_pymnt_d has 94 unique instances\n",
      "Column next_pymnt_d has 64 unique instances\n",
      "Column last_credit_pull_d has 87 unique instances\n",
      "Column application_type has 2 unique instances\n",
      "Column verification_status_joint has 4 unique instances\n"
     ]
    }
   ],
   "source": [
    "for col in data.select_dtypes(include=['object']).columns:\n",
    "    print (\"Column {} has {} unique instances\".format( col, len(data[col].unique())) )"
   ]
  },
  {
   "cell_type": "markdown",
   "metadata": {},
   "source": [
    "### b. Are there unique customers in the data or repeats? "
   ]
  },
  {
   "cell_type": "code",
   "execution_count": 62,
   "metadata": {
    "collapsed": false
   },
   "outputs": [
    {
     "data": {
      "text/plain": [
       "True"
      ]
     },
     "execution_count": 62,
     "metadata": {},
     "output_type": "execute_result"
    }
   ],
   "source": [
    "len(pd.unique(data['member_id'].values.ravel())) == data.shape[0]"
   ]
  },
  {
   "cell_type": "markdown",
   "metadata": {},
   "source": [
    "### c. Drop some of the junk variables (id, member_id, ...)\n",
    "* Reasons: High Cardinality\n",
    "* pre-pre-processing 😃"
   ]
  },
  {
   "cell_type": "code",
   "execution_count": 63,
   "metadata": {
    "collapsed": false,
    "scrolled": true
   },
   "outputs": [],
   "source": [
    "data = data.drop('id', 1) #\n",
    "data = data.drop('member_id', 1)#\n",
    "data = data.drop('url', 1)#\n",
    "data = data.drop('purpose', 1)\n",
    "data = data.drop('title', 1)#\n",
    "data = data.drop('zip_code', 1)#\n",
    "data = data.drop('emp_title', 1)#\n",
    "data = data.drop('earliest_cr_line', 1)#\n",
    "data = data.drop('term', 1)\n",
    "data = data.drop('sub_grade', 1) #\n",
    "data = data.drop('last_pymnt_d', 1)#\n",
    "data = data.drop('next_pymnt_d', 1)#\n",
    "data = data.drop('last_credit_pull_d', 1)\n",
    "data = data.drop('issue_d', 1) ##\n",
    "data = data.drop('desc', 1)##\n",
    "data = data.drop('addr_state', 1)##"
   ]
  },
  {
   "cell_type": "code",
   "execution_count": 65,
   "metadata": {
    "collapsed": false
   },
   "outputs": [
    {
     "data": {
      "text/plain": [
       "(44369, 58)"
      ]
     },
     "execution_count": 65,
     "metadata": {},
     "output_type": "execute_result"
    }
   ],
   "source": [
    "data.shape"
   ]
  },
  {
   "cell_type": "code",
   "execution_count": 66,
   "metadata": {
    "collapsed": false
   },
   "outputs": [
    {
     "name": "stdout",
     "output_type": "stream",
     "text": [
      "Column grade has 7 unique instances\n",
      "Column emp_length has 12 unique instances\n",
      "Column home_ownership has 5 unique instances\n",
      "Column verification_status has 3 unique instances\n",
      "Column loan_status has 10 unique instances\n",
      "Column pymnt_plan has 1 unique instances\n",
      "Column initial_list_status has 2 unique instances\n",
      "Column application_type has 2 unique instances\n",
      "Column verification_status_joint has 4 unique instances\n"
     ]
    }
   ],
   "source": [
    "# yay this is better\n",
    "for col in data.select_dtypes(include=['object']).columns:\n",
    "    print (\"Column {} has {} unique instances\".format( col, len(data[col].unique())) )"
   ]
  },
  {
   "cell_type": "markdown",
   "metadata": {},
   "source": [
    "### d. Exploratory Data Analysis: What is the distribution of the loan amount?\n",
    "* In general the loans amount was usually under $15,000"
   ]
  },
  {
   "cell_type": "code",
   "execution_count": 70,
   "metadata": {
    "collapsed": false
   },
   "outputs": [
    {
     "data": {
      "text/plain": [
       "<matplotlib.axes._subplots.AxesSubplot at 0x11aea1898>"
      ]
     },
     "execution_count": 70,
     "metadata": {},
     "output_type": "execute_result"
    },
    {
     "data": {
      "image/png": "[encoded data removed]",
      "text/plain": [
       "<matplotlib.figure.Figure at 0x11ae98a58>"
      ]
     },
     "metadata": {},
     "output_type": "display_data"
    }
   ],
   "source": [
    "data['loan_amnt'].plot(kind=\"hist\", bins=10)"
   ]
  },
  {
   "cell_type": "code",
   "execution_count": 71,
   "metadata": {
    "collapsed": false
   },
   "outputs": [
    {
     "data": {
      "text/plain": [
       "<matplotlib.axes._subplots.AxesSubplot at 0x149d0d198>"
      ]
     },
     "execution_count": 71,
     "metadata": {},
     "output_type": "execute_result"
    },
    {
     "data": {
      "image/png": "[encoded data removed]",
      "text/plain": [
       "<matplotlib.figure.Figure at 0x122363630>"
      ]
     },
     "metadata": {},
     "output_type": "display_data"
    }
   ],
   "source": [
    "data['grade'].value_counts().plot(kind='bar')"
   ]
  },
  {
   "cell_type": "code",
   "execution_count": 72,
   "metadata": {
    "collapsed": false
   },
   "outputs": [
    {
     "data": {
      "text/plain": [
       "<matplotlib.axes._subplots.AxesSubplot at 0x118ddb828>"
      ]
     },
     "execution_count": 72,
     "metadata": {},
     "output_type": "execute_result"
    },
    {
     "data": {
      "image/png": "[encoded data removed]",
      "text/plain": [
       "<matplotlib.figure.Figure at 0x11787ba58>"
      ]
     },
     "metadata": {},
     "output_type": "display_data"
    }
   ],
   "source": [
    "data['emp_length'].value_counts().plot(kind='bar')"
   ]
  },
  {
   "cell_type": "markdown",
   "metadata": {},
   "source": [
    "### e. What is the distribution of target class?\n",
    "* Most of this dataset the loans are in a current state (in-payment?), or Fully paid off\n",
    "* Looks like a [Poisson Distribution](https://en.wikipedia.org/wiki/Poisson_distribution)?!"
   ]
  },
  {
   "cell_type": "code",
   "execution_count": 16,
   "metadata": {
    "collapsed": false
   },
   "outputs": [
    {
     "data": {
      "text/plain": [
       "<matplotlib.axes._subplots.AxesSubplot at 0x14a033e80>"
      ]
     },
     "execution_count": 16,
     "metadata": {},
     "output_type": "execute_result"
    },
    {
     "data": {
      "image/png": "[encoded data removed]",
      "text/plain": [
       "<matplotlib.figure.Figure at 0x14a00df60>"
      ]
     },
     "metadata": {},
     "output_type": "display_data"
    }
   ],
   "source": [
    "data['loan_status'].value_counts().plot(kind='bar')"
   ]
  },
  {
   "cell_type": "markdown",
   "metadata": {},
   "source": [
    "### f. What are the numeric columns?\n",
    "* For pre-processing and scaling"
   ]
  },
  {
   "cell_type": "code",
   "execution_count": 76,
   "metadata": {
    "collapsed": false,
    "scrolled": true
   },
   "outputs": [
    {
     "data": {
      "text/plain": [
       "Index(['loan_amnt', 'funded_amnt', 'funded_amnt_inv', 'int_rate',\n",
       "       'installment', 'annual_inc', 'dti', 'delinq_2yrs', 'inq_last_6mths',\n",
       "       'mths_since_last_delinq', 'mths_since_last_record', 'open_acc',\n",
       "       'pub_rec', 'revol_bal', 'revol_util', 'total_acc', 'out_prncp',\n",
       "       'out_prncp_inv', 'total_pymnt', 'total_pymnt_inv', 'total_rec_prncp',\n",
       "       'total_rec_int', 'total_rec_late_fee', 'recoveries',\n",
       "       'collection_recovery_fee', 'last_pymnt_amnt',\n",
       "       'collections_12_mths_ex_med', 'mths_since_last_major_derog',\n",
       "       'policy_code', 'annual_inc_joint', 'dti_joint', 'acc_now_delinq',\n",
       "       'tot_coll_amt', 'tot_cur_bal', 'open_acc_6m', 'open_il_6m',\n",
       "       'open_il_12m', 'open_il_24m', 'mths_since_rcnt_il', 'total_bal_il',\n",
       "       'il_util', 'open_rv_12m', 'open_rv_24m', 'max_bal_bc', 'all_util',\n",
       "       'total_rev_hi_lim', 'inq_fi', 'total_cu_tl', 'inq_last_12m'],\n",
       "      dtype='object')"
      ]
     },
     "execution_count": 76,
     "metadata": {},
     "output_type": "execute_result"
    }
   ],
   "source": [
    "data._get_numeric_data().columns"
   ]
  },
  {
   "cell_type": "code",
   "execution_count": 77,
   "metadata": {
    "collapsed": false
   },
   "outputs": [
    {
     "data": {
      "text/plain": [
       "'There are 49 numeric columns in the data set'"
      ]
     },
     "execution_count": 77,
     "metadata": {},
     "output_type": "execute_result"
    }
   ],
   "source": [
    "\"There are {} numeric columns in the data set\".format(len(data._get_numeric_data().columns) )   "
   ]
  },
  {
   "cell_type": "markdown",
   "metadata": {},
   "source": [
    "### g. What are the character columns?\n",
    "* For one-hot encoding into a model matrix"
   ]
  },
  {
   "cell_type": "code",
   "execution_count": 78,
   "metadata": {
    "collapsed": false
   },
   "outputs": [
    {
     "data": {
      "text/plain": [
       "Index(['grade', 'emp_length', 'home_ownership', 'verification_status',\n",
       "       'loan_status', 'pymnt_plan', 'initial_list_status', 'application_type',\n",
       "       'verification_status_joint'],\n",
       "      dtype='object')"
      ]
     },
     "execution_count": 78,
     "metadata": {},
     "output_type": "execute_result"
    }
   ],
   "source": [
    "data.select_dtypes(include=['object']).columns"
   ]
  },
  {
   "cell_type": "code",
   "execution_count": 79,
   "metadata": {
    "collapsed": false
   },
   "outputs": [
    {
     "data": {
      "text/plain": [
       "'There are 8 Character columns in the data set (minus the target)'"
      ]
     },
     "execution_count": 79,
     "metadata": {},
     "output_type": "execute_result"
    }
   ],
   "source": [
    "\"There are {} Character columns in the data set (minus the target)\".format(len(data.select_dtypes(include=['object']).columns) -1) "
   ]
  },
  {
   "cell_type": "markdown",
   "metadata": {},
   "source": [
    "## 4. Pre-processing the data"
   ]
  },
  {
   "cell_type": "markdown",
   "metadata": {},
   "source": [
    "### a. Remove the target from the entire dataset"
   ]
  },
  {
   "cell_type": "code",
   "execution_count": 80,
   "metadata": {
    "collapsed": true
   },
   "outputs": [],
   "source": [
    "X = data.drop(\"loan_status\", axis=1, inplace = False)\n",
    "y = data.loan_status"
   ]
  },
  {
   "cell_type": "code",
   "execution_count": 81,
   "metadata": {
    "collapsed": false
   },
   "outputs": [
    {
     "data": {
      "text/plain": [
       "70467        Current\n",
       "165635    Fully Paid\n",
       "496523       Current\n",
       "182496    Fully Paid\n",
       "554977       Current\n",
       "Name: loan_status, dtype: object"
      ]
     },
     "execution_count": 81,
     "metadata": {},
     "output_type": "execute_result"
    }
   ],
   "source": [
    "y.head()"
   ]
  },
  {
   "cell_type": "markdown",
   "metadata": {},
   "source": [
    "### b. Transform the data into a model matrix with one-hot encoding\n",
    "* isolate the variables of char class"
   ]
  },
  {
   "cell_type": "code",
   "execution_count": 83,
   "metadata": {
    "collapsed": false
   },
   "outputs": [],
   "source": [
    "def model_matrix(df , columns):\n",
    "    dummified_cols = pd.get_dummies(df[columns])\n",
    "    df = df.drop(columns, axis = 1, inplace=False)\n",
    "    df_new = df.join(dummified_cols)\n",
    "    return df_new\n",
    "\n",
    "X = model_matrix(X, ['grade', 'emp_length', 'home_ownership', 'verification_status',\n",
    "                    'pymnt_plan', 'initial_list_status', 'application_type', 'verification_status_joint'])\n",
    "\n",
    "# 'issue_d' 'desc' 'addr_state'"
   ]
  },
  {
   "cell_type": "code",
   "execution_count": 84,
   "metadata": {
    "collapsed": false
   },
   "outputs": [
    {
     "data": {
      "text/html": [
       "<div>\n",
       "<table border=\"1\" class=\"dataframe\">\n",
       "  <thead>\n",
       "    <tr style=\"text-align: right;\">\n",
       "      <th></th>\n",
       "      <th>loan_amnt</th>\n",
       "      <th>funded_amnt</th>\n",
       "      <th>funded_amnt_inv</th>\n",
       "      <th>int_rate</th>\n",
       "      <th>installment</th>\n",
       "      <th>annual_inc</th>\n",
       "      <th>dti</th>\n",
       "      <th>delinq_2yrs</th>\n",
       "      <th>inq_last_6mths</th>\n",
       "      <th>mths_since_last_delinq</th>\n",
       "      <th>...</th>\n",
       "      <th>verification_status_Source Verified</th>\n",
       "      <th>verification_status_Verified</th>\n",
       "      <th>pymnt_plan_n</th>\n",
       "      <th>initial_list_status_f</th>\n",
       "      <th>initial_list_status_w</th>\n",
       "      <th>application_type_INDIVIDUAL</th>\n",
       "      <th>application_type_JOINT</th>\n",
       "      <th>verification_status_joint_Not Verified</th>\n",
       "      <th>verification_status_joint_Source Verified</th>\n",
       "      <th>verification_status_joint_Verified</th>\n",
       "    </tr>\n",
       "  </thead>\n",
       "  <tbody>\n",
       "    <tr>\n",
       "      <th>70467</th>\n",
       "      <td>13000.0</td>\n",
       "      <td>13000.0</td>\n",
       "      <td>12950.0</td>\n",
       "      <td>9.67</td>\n",
       "      <td>417.47</td>\n",
       "      <td>96000.0</td>\n",
       "      <td>22.75</td>\n",
       "      <td>0.0</td>\n",
       "      <td>0.0</td>\n",
       "      <td>NaN</td>\n",
       "      <td>...</td>\n",
       "      <td>0.0</td>\n",
       "      <td>1.0</td>\n",
       "      <td>1.0</td>\n",
       "      <td>1.0</td>\n",
       "      <td>0.0</td>\n",
       "      <td>1.0</td>\n",
       "      <td>0.0</td>\n",
       "      <td>0.0</td>\n",
       "      <td>0.0</td>\n",
       "      <td>0.0</td>\n",
       "    </tr>\n",
       "    <tr>\n",
       "      <th>165635</th>\n",
       "      <td>8000.0</td>\n",
       "      <td>8000.0</td>\n",
       "      <td>8000.0</td>\n",
       "      <td>13.11</td>\n",
       "      <td>269.98</td>\n",
       "      <td>58000.0</td>\n",
       "      <td>17.46</td>\n",
       "      <td>1.0</td>\n",
       "      <td>0.0</td>\n",
       "      <td>18.0</td>\n",
       "      <td>...</td>\n",
       "      <td>0.0</td>\n",
       "      <td>0.0</td>\n",
       "      <td>1.0</td>\n",
       "      <td>1.0</td>\n",
       "      <td>0.0</td>\n",
       "      <td>1.0</td>\n",
       "      <td>0.0</td>\n",
       "      <td>0.0</td>\n",
       "      <td>0.0</td>\n",
       "      <td>0.0</td>\n",
       "    </tr>\n",
       "    <tr>\n",
       "      <th>496523</th>\n",
       "      <td>10000.0</td>\n",
       "      <td>10000.0</td>\n",
       "      <td>10000.0</td>\n",
       "      <td>10.64</td>\n",
       "      <td>325.69</td>\n",
       "      <td>52000.0</td>\n",
       "      <td>25.04</td>\n",
       "      <td>1.0</td>\n",
       "      <td>0.0</td>\n",
       "      <td>14.0</td>\n",
       "      <td>...</td>\n",
       "      <td>0.0</td>\n",
       "      <td>1.0</td>\n",
       "      <td>1.0</td>\n",
       "      <td>1.0</td>\n",
       "      <td>0.0</td>\n",
       "      <td>1.0</td>\n",
       "      <td>0.0</td>\n",
       "      <td>0.0</td>\n",
       "      <td>0.0</td>\n",
       "      <td>0.0</td>\n",
       "    </tr>\n",
       "    <tr>\n",
       "      <th>182496</th>\n",
       "      <td>16000.0</td>\n",
       "      <td>16000.0</td>\n",
       "      <td>16000.0</td>\n",
       "      <td>15.80</td>\n",
       "      <td>560.94</td>\n",
       "      <td>90000.0</td>\n",
       "      <td>18.16</td>\n",
       "      <td>0.0</td>\n",
       "      <td>3.0</td>\n",
       "      <td>34.0</td>\n",
       "      <td>...</td>\n",
       "      <td>0.0</td>\n",
       "      <td>0.0</td>\n",
       "      <td>1.0</td>\n",
       "      <td>0.0</td>\n",
       "      <td>1.0</td>\n",
       "      <td>1.0</td>\n",
       "      <td>0.0</td>\n",
       "      <td>0.0</td>\n",
       "      <td>0.0</td>\n",
       "      <td>0.0</td>\n",
       "    </tr>\n",
       "    <tr>\n",
       "      <th>554977</th>\n",
       "      <td>10000.0</td>\n",
       "      <td>10000.0</td>\n",
       "      <td>10000.0</td>\n",
       "      <td>7.89</td>\n",
       "      <td>312.86</td>\n",
       "      <td>75000.0</td>\n",
       "      <td>8.47</td>\n",
       "      <td>0.0</td>\n",
       "      <td>0.0</td>\n",
       "      <td>NaN</td>\n",
       "      <td>...</td>\n",
       "      <td>0.0</td>\n",
       "      <td>1.0</td>\n",
       "      <td>1.0</td>\n",
       "      <td>0.0</td>\n",
       "      <td>1.0</td>\n",
       "      <td>1.0</td>\n",
       "      <td>0.0</td>\n",
       "      <td>0.0</td>\n",
       "      <td>0.0</td>\n",
       "      <td>0.0</td>\n",
       "    </tr>\n",
       "  </tbody>\n",
       "</table>\n",
       "<p>5 rows × 84 columns</p>\n",
       "</div>"
      ],
      "text/plain": [
       "        loan_amnt  funded_amnt  funded_amnt_inv  int_rate  installment  \\\n",
       "70467     13000.0      13000.0          12950.0      9.67       417.47   \n",
       "165635     8000.0       8000.0           8000.0     13.11       269.98   \n",
       "496523    10000.0      10000.0          10000.0     10.64       325.69   \n",
       "182496    16000.0      16000.0          16000.0     15.80       560.94   \n",
       "554977    10000.0      10000.0          10000.0      7.89       312.86   \n",
       "\n",
       "        annual_inc    dti  delinq_2yrs  inq_last_6mths  \\\n",
       "70467      96000.0  22.75          0.0             0.0   \n",
       "165635     58000.0  17.46          1.0             0.0   \n",
       "496523     52000.0  25.04          1.0             0.0   \n",
       "182496     90000.0  18.16          0.0             3.0   \n",
       "554977     75000.0   8.47          0.0             0.0   \n",
       "\n",
       "        mths_since_last_delinq                 ...                  \\\n",
       "70467                      NaN                 ...                   \n",
       "165635                    18.0                 ...                   \n",
       "496523                    14.0                 ...                   \n",
       "182496                    34.0                 ...                   \n",
       "554977                     NaN                 ...                   \n",
       "\n",
       "        verification_status_Source Verified  verification_status_Verified  \\\n",
       "70467                                   0.0                           1.0   \n",
       "165635                                  0.0                           0.0   \n",
       "496523                                  0.0                           1.0   \n",
       "182496                                  0.0                           0.0   \n",
       "554977                                  0.0                           1.0   \n",
       "\n",
       "        pymnt_plan_n  initial_list_status_f  initial_list_status_w  \\\n",
       "70467            1.0                    1.0                    0.0   \n",
       "165635           1.0                    1.0                    0.0   \n",
       "496523           1.0                    1.0                    0.0   \n",
       "182496           1.0                    0.0                    1.0   \n",
       "554977           1.0                    0.0                    1.0   \n",
       "\n",
       "        application_type_INDIVIDUAL  application_type_JOINT  \\\n",
       "70467                           1.0                     0.0   \n",
       "165635                          1.0                     0.0   \n",
       "496523                          1.0                     0.0   \n",
       "182496                          1.0                     0.0   \n",
       "554977                          1.0                     0.0   \n",
       "\n",
       "        verification_status_joint_Not Verified  \\\n",
       "70467                                      0.0   \n",
       "165635                                     0.0   \n",
       "496523                                     0.0   \n",
       "182496                                     0.0   \n",
       "554977                                     0.0   \n",
       "\n",
       "        verification_status_joint_Source Verified  \\\n",
       "70467                                         0.0   \n",
       "165635                                        0.0   \n",
       "496523                                        0.0   \n",
       "182496                                        0.0   \n",
       "554977                                        0.0   \n",
       "\n",
       "        verification_status_joint_Verified  \n",
       "70467                                  0.0  \n",
       "165635                                 0.0  \n",
       "496523                                 0.0  \n",
       "182496                                 0.0  \n",
       "554977                                 0.0  \n",
       "\n",
       "[5 rows x 84 columns]"
      ]
     },
     "execution_count": 84,
     "metadata": {},
     "output_type": "execute_result"
    }
   ],
   "source": [
    "X.head()"
   ]
  },
  {
   "cell_type": "code",
   "execution_count": 85,
   "metadata": {
    "collapsed": false
   },
   "outputs": [
    {
     "data": {
      "text/plain": [
       "(44369, 84)"
      ]
     },
     "execution_count": 85,
     "metadata": {},
     "output_type": "execute_result"
    }
   ],
   "source": [
    "X.shape"
   ]
  },
  {
   "cell_type": "markdown",
   "metadata": {},
   "source": [
    "### c. Scale the continuous variables use min max calculation"
   ]
  },
  {
   "cell_type": "code",
   "execution_count": 86,
   "metadata": {
    "collapsed": false
   },
   "outputs": [
    {
     "data": {
      "text/html": [
       "<div>\n",
       "<table border=\"1\" class=\"dataframe\">\n",
       "  <thead>\n",
       "    <tr style=\"text-align: right;\">\n",
       "      <th></th>\n",
       "      <th>loan_amnt</th>\n",
       "      <th>funded_amnt</th>\n",
       "      <th>funded_amnt_inv</th>\n",
       "      <th>int_rate</th>\n",
       "      <th>installment</th>\n",
       "      <th>annual_inc</th>\n",
       "      <th>dti</th>\n",
       "      <th>delinq_2yrs</th>\n",
       "      <th>inq_last_6mths</th>\n",
       "      <th>mths_since_last_delinq</th>\n",
       "      <th>...</th>\n",
       "      <th>verification_status_Source Verified</th>\n",
       "      <th>verification_status_Verified</th>\n",
       "      <th>pymnt_plan_n</th>\n",
       "      <th>initial_list_status_f</th>\n",
       "      <th>initial_list_status_w</th>\n",
       "      <th>application_type_INDIVIDUAL</th>\n",
       "      <th>application_type_JOINT</th>\n",
       "      <th>verification_status_joint_Not Verified</th>\n",
       "      <th>verification_status_joint_Source Verified</th>\n",
       "      <th>verification_status_joint_Verified</th>\n",
       "    </tr>\n",
       "  </thead>\n",
       "  <tbody>\n",
       "    <tr>\n",
       "      <th>70467</th>\n",
       "      <td>13000.0</td>\n",
       "      <td>13000.0</td>\n",
       "      <td>12950.0</td>\n",
       "      <td>9.67</td>\n",
       "      <td>417.47</td>\n",
       "      <td>96000.0</td>\n",
       "      <td>22.75</td>\n",
       "      <td>0.0</td>\n",
       "      <td>0.0</td>\n",
       "      <td>0.0</td>\n",
       "      <td>...</td>\n",
       "      <td>0.0</td>\n",
       "      <td>1.0</td>\n",
       "      <td>1.0</td>\n",
       "      <td>1.0</td>\n",
       "      <td>0.0</td>\n",
       "      <td>1.0</td>\n",
       "      <td>0.0</td>\n",
       "      <td>0.0</td>\n",
       "      <td>0.0</td>\n",
       "      <td>0.0</td>\n",
       "    </tr>\n",
       "    <tr>\n",
       "      <th>165635</th>\n",
       "      <td>8000.0</td>\n",
       "      <td>8000.0</td>\n",
       "      <td>8000.0</td>\n",
       "      <td>13.11</td>\n",
       "      <td>269.98</td>\n",
       "      <td>58000.0</td>\n",
       "      <td>17.46</td>\n",
       "      <td>1.0</td>\n",
       "      <td>0.0</td>\n",
       "      <td>18.0</td>\n",
       "      <td>...</td>\n",
       "      <td>0.0</td>\n",
       "      <td>0.0</td>\n",
       "      <td>1.0</td>\n",
       "      <td>1.0</td>\n",
       "      <td>0.0</td>\n",
       "      <td>1.0</td>\n",
       "      <td>0.0</td>\n",
       "      <td>0.0</td>\n",
       "      <td>0.0</td>\n",
       "      <td>0.0</td>\n",
       "    </tr>\n",
       "    <tr>\n",
       "      <th>496523</th>\n",
       "      <td>10000.0</td>\n",
       "      <td>10000.0</td>\n",
       "      <td>10000.0</td>\n",
       "      <td>10.64</td>\n",
       "      <td>325.69</td>\n",
       "      <td>52000.0</td>\n",
       "      <td>25.04</td>\n",
       "      <td>1.0</td>\n",
       "      <td>0.0</td>\n",
       "      <td>14.0</td>\n",
       "      <td>...</td>\n",
       "      <td>0.0</td>\n",
       "      <td>1.0</td>\n",
       "      <td>1.0</td>\n",
       "      <td>1.0</td>\n",
       "      <td>0.0</td>\n",
       "      <td>1.0</td>\n",
       "      <td>0.0</td>\n",
       "      <td>0.0</td>\n",
       "      <td>0.0</td>\n",
       "      <td>0.0</td>\n",
       "    </tr>\n",
       "    <tr>\n",
       "      <th>182496</th>\n",
       "      <td>16000.0</td>\n",
       "      <td>16000.0</td>\n",
       "      <td>16000.0</td>\n",
       "      <td>15.80</td>\n",
       "      <td>560.94</td>\n",
       "      <td>90000.0</td>\n",
       "      <td>18.16</td>\n",
       "      <td>0.0</td>\n",
       "      <td>3.0</td>\n",
       "      <td>34.0</td>\n",
       "      <td>...</td>\n",
       "      <td>0.0</td>\n",
       "      <td>0.0</td>\n",
       "      <td>1.0</td>\n",
       "      <td>0.0</td>\n",
       "      <td>1.0</td>\n",
       "      <td>1.0</td>\n",
       "      <td>0.0</td>\n",
       "      <td>0.0</td>\n",
       "      <td>0.0</td>\n",
       "      <td>0.0</td>\n",
       "    </tr>\n",
       "    <tr>\n",
       "      <th>554977</th>\n",
       "      <td>10000.0</td>\n",
       "      <td>10000.0</td>\n",
       "      <td>10000.0</td>\n",
       "      <td>7.89</td>\n",
       "      <td>312.86</td>\n",
       "      <td>75000.0</td>\n",
       "      <td>8.47</td>\n",
       "      <td>0.0</td>\n",
       "      <td>0.0</td>\n",
       "      <td>0.0</td>\n",
       "      <td>...</td>\n",
       "      <td>0.0</td>\n",
       "      <td>1.0</td>\n",
       "      <td>1.0</td>\n",
       "      <td>0.0</td>\n",
       "      <td>1.0</td>\n",
       "      <td>1.0</td>\n",
       "      <td>0.0</td>\n",
       "      <td>0.0</td>\n",
       "      <td>0.0</td>\n",
       "      <td>0.0</td>\n",
       "    </tr>\n",
       "  </tbody>\n",
       "</table>\n",
       "<p>5 rows × 84 columns</p>\n",
       "</div>"
      ],
      "text/plain": [
       "        loan_amnt  funded_amnt  funded_amnt_inv  int_rate  installment  \\\n",
       "70467     13000.0      13000.0          12950.0      9.67       417.47   \n",
       "165635     8000.0       8000.0           8000.0     13.11       269.98   \n",
       "496523    10000.0      10000.0          10000.0     10.64       325.69   \n",
       "182496    16000.0      16000.0          16000.0     15.80       560.94   \n",
       "554977    10000.0      10000.0          10000.0      7.89       312.86   \n",
       "\n",
       "        annual_inc    dti  delinq_2yrs  inq_last_6mths  \\\n",
       "70467      96000.0  22.75          0.0             0.0   \n",
       "165635     58000.0  17.46          1.0             0.0   \n",
       "496523     52000.0  25.04          1.0             0.0   \n",
       "182496     90000.0  18.16          0.0             3.0   \n",
       "554977     75000.0   8.47          0.0             0.0   \n",
       "\n",
       "        mths_since_last_delinq                 ...                  \\\n",
       "70467                      0.0                 ...                   \n",
       "165635                    18.0                 ...                   \n",
       "496523                    14.0                 ...                   \n",
       "182496                    34.0                 ...                   \n",
       "554977                     0.0                 ...                   \n",
       "\n",
       "        verification_status_Source Verified  verification_status_Verified  \\\n",
       "70467                                   0.0                           1.0   \n",
       "165635                                  0.0                           0.0   \n",
       "496523                                  0.0                           1.0   \n",
       "182496                                  0.0                           0.0   \n",
       "554977                                  0.0                           1.0   \n",
       "\n",
       "        pymnt_plan_n  initial_list_status_f  initial_list_status_w  \\\n",
       "70467            1.0                    1.0                    0.0   \n",
       "165635           1.0                    1.0                    0.0   \n",
       "496523           1.0                    1.0                    0.0   \n",
       "182496           1.0                    0.0                    1.0   \n",
       "554977           1.0                    0.0                    1.0   \n",
       "\n",
       "        application_type_INDIVIDUAL  application_type_JOINT  \\\n",
       "70467                           1.0                     0.0   \n",
       "165635                          1.0                     0.0   \n",
       "496523                          1.0                     0.0   \n",
       "182496                          1.0                     0.0   \n",
       "554977                          1.0                     0.0   \n",
       "\n",
       "        verification_status_joint_Not Verified  \\\n",
       "70467                                      0.0   \n",
       "165635                                     0.0   \n",
       "496523                                     0.0   \n",
       "182496                                     0.0   \n",
       "554977                                     0.0   \n",
       "\n",
       "        verification_status_joint_Source Verified  \\\n",
       "70467                                         0.0   \n",
       "165635                                        0.0   \n",
       "496523                                        0.0   \n",
       "182496                                        0.0   \n",
       "554977                                        0.0   \n",
       "\n",
       "        verification_status_joint_Verified  \n",
       "70467                                  0.0  \n",
       "165635                                 0.0  \n",
       "496523                                 0.0  \n",
       "182496                                 0.0  \n",
       "554977                                 0.0  \n",
       "\n",
       "[5 rows x 84 columns]"
      ]
     },
     "execution_count": 86,
     "metadata": {},
     "output_type": "execute_result"
    }
   ],
   "source": [
    "# impute rows with NaN with a 0 for now\n",
    "X2 = X.fillna(value = 0)\n",
    "X2.head()"
   ]
  },
  {
   "cell_type": "code",
   "execution_count": 87,
   "metadata": {
    "collapsed": false
   },
   "outputs": [],
   "source": [
    "from sklearn.preprocessing import MinMaxScaler\n",
    "\n",
    "Scaler = MinMaxScaler()\n",
    "\n",
    "X2[['loan_amnt', 'funded_amnt', 'funded_amnt_inv', 'int_rate',\n",
    "       'installment', 'annual_inc', 'dti', 'delinq_2yrs', 'inq_last_6mths',\n",
    "       'mths_since_last_delinq', 'mths_since_last_record', 'open_acc',\n",
    "       'pub_rec', 'revol_bal', 'revol_util', 'total_acc', 'out_prncp',\n",
    "       'out_prncp_inv', 'total_pymnt', 'total_pymnt_inv', 'total_rec_prncp',\n",
    "       'total_rec_int', 'total_rec_late_fee', 'recoveries',\n",
    "       'collection_recovery_fee', 'last_pymnt_amnt',\n",
    "       'collections_12_mths_ex_med', 'mths_since_last_major_derog',\n",
    "       'policy_code', 'annual_inc_joint', 'dti_joint', 'acc_now_delinq',\n",
    "       'tot_coll_amt', 'tot_cur_bal', 'open_acc_6m', 'open_il_6m',\n",
    "       'open_il_12m', 'open_il_24m', 'mths_since_rcnt_il', 'total_bal_il',\n",
    "       'il_util', 'open_rv_12m', 'open_rv_24m', 'max_bal_bc', 'all_util',\n",
    "       'total_rev_hi_lim', 'inq_fi', 'total_cu_tl', 'inq_last_12m']] = Scaler.fit_transform(X2[['loan_amnt', 'funded_amnt', 'funded_amnt_inv', 'int_rate',\n",
    "       'installment', 'annual_inc', 'dti', 'delinq_2yrs', 'inq_last_6mths',\n",
    "       'mths_since_last_delinq', 'mths_since_last_record', 'open_acc',\n",
    "       'pub_rec', 'revol_bal', 'revol_util', 'total_acc', 'out_prncp',\n",
    "       'out_prncp_inv', 'total_pymnt', 'total_pymnt_inv', 'total_rec_prncp',\n",
    "       'total_rec_int', 'total_rec_late_fee', 'recoveries',\n",
    "       'collection_recovery_fee', 'last_pymnt_amnt',\n",
    "       'collections_12_mths_ex_med', 'mths_since_last_major_derog',\n",
    "       'policy_code', 'annual_inc_joint', 'dti_joint', 'acc_now_delinq',\n",
    "       'tot_coll_amt', 'tot_cur_bal', 'open_acc_6m', 'open_il_6m',\n",
    "       'open_il_12m', 'open_il_24m', 'mths_since_rcnt_il', 'total_bal_il',\n",
    "       'il_util', 'open_rv_12m', 'open_rv_24m', 'max_bal_bc', 'all_util',\n",
    "       'total_rev_hi_lim', 'inq_fi', 'total_cu_tl', 'inq_last_12m']])"
   ]
  },
  {
   "cell_type": "code",
   "execution_count": 88,
   "metadata": {
    "collapsed": false
   },
   "outputs": [
    {
     "data": {
      "text/html": [
       "<div>\n",
       "<table border=\"1\" class=\"dataframe\">\n",
       "  <thead>\n",
       "    <tr style=\"text-align: right;\">\n",
       "      <th></th>\n",
       "      <th>loan_amnt</th>\n",
       "      <th>funded_amnt</th>\n",
       "      <th>funded_amnt_inv</th>\n",
       "      <th>int_rate</th>\n",
       "      <th>installment</th>\n",
       "      <th>annual_inc</th>\n",
       "      <th>dti</th>\n",
       "      <th>delinq_2yrs</th>\n",
       "      <th>inq_last_6mths</th>\n",
       "      <th>mths_since_last_delinq</th>\n",
       "      <th>...</th>\n",
       "      <th>verification_status_Source Verified</th>\n",
       "      <th>verification_status_Verified</th>\n",
       "      <th>pymnt_plan_n</th>\n",
       "      <th>initial_list_status_f</th>\n",
       "      <th>initial_list_status_w</th>\n",
       "      <th>application_type_INDIVIDUAL</th>\n",
       "      <th>application_type_JOINT</th>\n",
       "      <th>verification_status_joint_Not Verified</th>\n",
       "      <th>verification_status_joint_Source Verified</th>\n",
       "      <th>verification_status_joint_Verified</th>\n",
       "    </tr>\n",
       "  </thead>\n",
       "  <tbody>\n",
       "    <tr>\n",
       "      <th>70467</th>\n",
       "      <td>0.362319</td>\n",
       "      <td>0.362319</td>\n",
       "      <td>0.370000</td>\n",
       "      <td>0.183777</td>\n",
       "      <td>0.293954</td>\n",
       "      <td>0.015803</td>\n",
       "      <td>0.033828</td>\n",
       "      <td>0.000000</td>\n",
       "      <td>0.000000</td>\n",
       "      <td>0.000000</td>\n",
       "      <td>...</td>\n",
       "      <td>0.0</td>\n",
       "      <td>1.0</td>\n",
       "      <td>1.0</td>\n",
       "      <td>1.0</td>\n",
       "      <td>0.0</td>\n",
       "      <td>1.0</td>\n",
       "      <td>0.0</td>\n",
       "      <td>0.0</td>\n",
       "      <td>0.0</td>\n",
       "      <td>0.0</td>\n",
       "    </tr>\n",
       "    <tr>\n",
       "      <th>165635</th>\n",
       "      <td>0.217391</td>\n",
       "      <td>0.217391</td>\n",
       "      <td>0.228571</td>\n",
       "      <td>0.329109</td>\n",
       "      <td>0.186030</td>\n",
       "      <td>0.009469</td>\n",
       "      <td>0.025962</td>\n",
       "      <td>0.058824</td>\n",
       "      <td>0.000000</td>\n",
       "      <td>0.141732</td>\n",
       "      <td>...</td>\n",
       "      <td>0.0</td>\n",
       "      <td>0.0</td>\n",
       "      <td>1.0</td>\n",
       "      <td>1.0</td>\n",
       "      <td>0.0</td>\n",
       "      <td>1.0</td>\n",
       "      <td>0.0</td>\n",
       "      <td>0.0</td>\n",
       "      <td>0.0</td>\n",
       "      <td>0.0</td>\n",
       "    </tr>\n",
       "    <tr>\n",
       "      <th>496523</th>\n",
       "      <td>0.275362</td>\n",
       "      <td>0.275362</td>\n",
       "      <td>0.285714</td>\n",
       "      <td>0.224757</td>\n",
       "      <td>0.226795</td>\n",
       "      <td>0.008468</td>\n",
       "      <td>0.037233</td>\n",
       "      <td>0.058824</td>\n",
       "      <td>0.000000</td>\n",
       "      <td>0.110236</td>\n",
       "      <td>...</td>\n",
       "      <td>0.0</td>\n",
       "      <td>1.0</td>\n",
       "      <td>1.0</td>\n",
       "      <td>1.0</td>\n",
       "      <td>0.0</td>\n",
       "      <td>1.0</td>\n",
       "      <td>0.0</td>\n",
       "      <td>0.0</td>\n",
       "      <td>0.0</td>\n",
       "      <td>0.0</td>\n",
       "    </tr>\n",
       "    <tr>\n",
       "      <th>182496</th>\n",
       "      <td>0.449275</td>\n",
       "      <td>0.449275</td>\n",
       "      <td>0.457143</td>\n",
       "      <td>0.442755</td>\n",
       "      <td>0.398936</td>\n",
       "      <td>0.014803</td>\n",
       "      <td>0.027003</td>\n",
       "      <td>0.000000</td>\n",
       "      <td>0.214286</td>\n",
       "      <td>0.267717</td>\n",
       "      <td>...</td>\n",
       "      <td>0.0</td>\n",
       "      <td>0.0</td>\n",
       "      <td>1.0</td>\n",
       "      <td>0.0</td>\n",
       "      <td>1.0</td>\n",
       "      <td>1.0</td>\n",
       "      <td>0.0</td>\n",
       "      <td>0.0</td>\n",
       "      <td>0.0</td>\n",
       "      <td>0.0</td>\n",
       "    </tr>\n",
       "    <tr>\n",
       "      <th>554977</th>\n",
       "      <td>0.275362</td>\n",
       "      <td>0.275362</td>\n",
       "      <td>0.285714</td>\n",
       "      <td>0.108576</td>\n",
       "      <td>0.217407</td>\n",
       "      <td>0.012302</td>\n",
       "      <td>0.012594</td>\n",
       "      <td>0.000000</td>\n",
       "      <td>0.000000</td>\n",
       "      <td>0.000000</td>\n",
       "      <td>...</td>\n",
       "      <td>0.0</td>\n",
       "      <td>1.0</td>\n",
       "      <td>1.0</td>\n",
       "      <td>0.0</td>\n",
       "      <td>1.0</td>\n",
       "      <td>1.0</td>\n",
       "      <td>0.0</td>\n",
       "      <td>0.0</td>\n",
       "      <td>0.0</td>\n",
       "      <td>0.0</td>\n",
       "    </tr>\n",
       "  </tbody>\n",
       "</table>\n",
       "<p>5 rows × 84 columns</p>\n",
       "</div>"
      ],
      "text/plain": [
       "        loan_amnt  funded_amnt  funded_amnt_inv  int_rate  installment  \\\n",
       "70467    0.362319     0.362319         0.370000  0.183777     0.293954   \n",
       "165635   0.217391     0.217391         0.228571  0.329109     0.186030   \n",
       "496523   0.275362     0.275362         0.285714  0.224757     0.226795   \n",
       "182496   0.449275     0.449275         0.457143  0.442755     0.398936   \n",
       "554977   0.275362     0.275362         0.285714  0.108576     0.217407   \n",
       "\n",
       "        annual_inc       dti  delinq_2yrs  inq_last_6mths  \\\n",
       "70467     0.015803  0.033828     0.000000        0.000000   \n",
       "165635    0.009469  0.025962     0.058824        0.000000   \n",
       "496523    0.008468  0.037233     0.058824        0.000000   \n",
       "182496    0.014803  0.027003     0.000000        0.214286   \n",
       "554977    0.012302  0.012594     0.000000        0.000000   \n",
       "\n",
       "        mths_since_last_delinq                 ...                  \\\n",
       "70467                 0.000000                 ...                   \n",
       "165635                0.141732                 ...                   \n",
       "496523                0.110236                 ...                   \n",
       "182496                0.267717                 ...                   \n",
       "554977                0.000000                 ...                   \n",
       "\n",
       "        verification_status_Source Verified  verification_status_Verified  \\\n",
       "70467                                   0.0                           1.0   \n",
       "165635                                  0.0                           0.0   \n",
       "496523                                  0.0                           1.0   \n",
       "182496                                  0.0                           0.0   \n",
       "554977                                  0.0                           1.0   \n",
       "\n",
       "        pymnt_plan_n  initial_list_status_f  initial_list_status_w  \\\n",
       "70467            1.0                    1.0                    0.0   \n",
       "165635           1.0                    1.0                    0.0   \n",
       "496523           1.0                    1.0                    0.0   \n",
       "182496           1.0                    0.0                    1.0   \n",
       "554977           1.0                    0.0                    1.0   \n",
       "\n",
       "        application_type_INDIVIDUAL  application_type_JOINT  \\\n",
       "70467                           1.0                     0.0   \n",
       "165635                          1.0                     0.0   \n",
       "496523                          1.0                     0.0   \n",
       "182496                          1.0                     0.0   \n",
       "554977                          1.0                     0.0   \n",
       "\n",
       "        verification_status_joint_Not Verified  \\\n",
       "70467                                      0.0   \n",
       "165635                                     0.0   \n",
       "496523                                     0.0   \n",
       "182496                                     0.0   \n",
       "554977                                     0.0   \n",
       "\n",
       "        verification_status_joint_Source Verified  \\\n",
       "70467                                         0.0   \n",
       "165635                                        0.0   \n",
       "496523                                        0.0   \n",
       "182496                                        0.0   \n",
       "554977                                        0.0   \n",
       "\n",
       "        verification_status_joint_Verified  \n",
       "70467                                  0.0  \n",
       "165635                                 0.0  \n",
       "496523                                 0.0  \n",
       "182496                                 0.0  \n",
       "554977                                 0.0  \n",
       "\n",
       "[5 rows x 84 columns]"
      ]
     },
     "execution_count": 88,
     "metadata": {},
     "output_type": "execute_result"
    }
   ],
   "source": [
    "X2.head()"
   ]
  },
  {
   "cell_type": "markdown",
   "metadata": {},
   "source": [
    "### d. Partition the data into train and testing "
   ]
  },
  {
   "cell_type": "code",
   "execution_count": 89,
   "metadata": {
    "collapsed": false
   },
   "outputs": [],
   "source": [
    "x_train, x_test, y_train, y_test = train_test_split(X2, y, test_size=.3, random_state=123)"
   ]
  },
  {
   "cell_type": "code",
   "execution_count": 90,
   "metadata": {
    "collapsed": false
   },
   "outputs": [
    {
     "name": "stdout",
     "output_type": "stream",
     "text": [
      "(31058, 84)\n",
      "(31058,)\n",
      "(13311, 84)\n",
      "(13311,)\n"
     ]
    }
   ],
   "source": [
    "print(x_train.shape)\n",
    "print(y_train.shape)\n",
    "print(x_test.shape)\n",
    "print(y_test.shape)"
   ]
  },
  {
   "cell_type": "markdown",
   "metadata": {},
   "source": [
    "## 5. Building the k Nearest Neighbor Classifier\n",
    "* experiment with different values for neighbors"
   ]
  },
  {
   "cell_type": "code",
   "execution_count": 91,
   "metadata": {
    "collapsed": false
   },
   "outputs": [
    {
     "data": {
      "text/plain": [
       "KNeighborsClassifier(algorithm='auto', leaf_size=30, metric='euclidean',\n",
       "           metric_params=None, n_jobs=1, n_neighbors=10, p=2,\n",
       "           weights='uniform')"
      ]
     },
     "execution_count": 91,
     "metadata": {},
     "output_type": "execute_result"
    }
   ],
   "source": [
    "# start out with the number of classes for neighbors\n",
    "data_knn = KNeighborsClassifier(n_neighbors = 10, metric='euclidean')\n",
    "data_knn"
   ]
  },
  {
   "cell_type": "code",
   "execution_count": 92,
   "metadata": {
    "collapsed": false
   },
   "outputs": [
    {
     "data": {
      "text/plain": [
       "KNeighborsClassifier(algorithm='auto', leaf_size=30, metric='euclidean',\n",
       "           metric_params=None, n_jobs=1, n_neighbors=10, p=2,\n",
       "           weights='uniform')"
      ]
     },
     "execution_count": 92,
     "metadata": {},
     "output_type": "execute_result"
    }
   ],
   "source": [
    "data_knn.fit(x_train, y_train)"
   ]
  },
  {
   "cell_type": "markdown",
   "metadata": {},
   "source": [
    "### a. predict on the test data using the knn model created above"
   ]
  },
  {
   "cell_type": "code",
   "execution_count": 93,
   "metadata": {
    "collapsed": false
   },
   "outputs": [
    {
     "data": {
      "text/plain": [
       "array(['Current', 'Current', 'Current', ..., 'Current', 'Current',\n",
       "       'Fully Paid'], dtype=object)"
      ]
     },
     "execution_count": 93,
     "metadata": {},
     "output_type": "execute_result"
    }
   ],
   "source": [
    "data_knn.predict(x_test)"
   ]
  },
  {
   "cell_type": "markdown",
   "metadata": {},
   "source": [
    "### b. Evaluating the classifier model using R squared"
   ]
  },
  {
   "cell_type": "code",
   "execution_count": 94,
   "metadata": {
    "collapsed": false
   },
   "outputs": [
    {
     "name": "stdout",
     "output_type": "stream",
     "text": [
      "Training data R-squared:\n",
      "0.829351535836\n",
      "Test data R-squared:\n",
      "0.804146946135\n"
     ]
    }
   ],
   "source": [
    "# R-square from training and test data\n",
    "rsquared_train = data_knn.score(x_train, y_train)\n",
    "rsquared_test = data_knn.score(x_test, y_test)\n",
    "print ('Training data R-squared:')\n",
    "print(rsquared_train)\n",
    "print ('Test data R-squared:')\n",
    "print(rsquared_test)"
   ]
  },
  {
   "cell_type": "markdown",
   "metadata": {},
   "source": [
    "### c. Confusion Matrix"
   ]
  },
  {
   "cell_type": "code",
   "execution_count": 96,
   "metadata": {
    "collapsed": false
   },
   "outputs": [
    {
     "name": "stdout",
     "output_type": "stream",
     "text": [
      "The Confusion matrix:\n",
      " [[  79  480    0    0    0  104    0    0    0    0]\n",
      " [  14 8779    0    0    0  308    0    0    0    0]\n",
      " [   0   20    0    0    0    0    0    0    0    0]\n",
      " [   1    6    0    0    0    0    0    0    0    0]\n",
      " [   1   12    0    0    0   11    0    0    0    0]\n",
      " [  19 1204    0    0    0 1846    0    0    0    0]\n",
      " [   0   91    0    0    0    4    0    0    0    0]\n",
      " [   0  147    0    0    0    0    0    0    0    0]\n",
      " [   0   37    0    0    0    2    0    0    0    0]\n",
      " [   1  141    0    0    0    4    0    0    0    0]]\n"
     ]
    }
   ],
   "source": [
    "# confusion matrix\n",
    "from sklearn.metrics import confusion_matrix\n",
    "\n",
    "knn_confusion_matrix = confusion_matrix(y_true = y_test, y_pred = data_knn.predict(x_test))\n",
    "print(\"The Confusion matrix:\\n\", knn_confusion_matrix)"
   ]
  },
  {
   "cell_type": "code",
   "execution_count": 99,
   "metadata": {
    "collapsed": false
   },
   "outputs": [
    {
     "data": {
      "image/png": "[encoded data removed]",
      "text/plain": [
       "<matplotlib.figure.Figure at 0x1179c2978>"
      ]
     },
     "metadata": {},
     "output_type": "display_data"
    }
   ],
   "source": [
    "# visualize the confusion matrix\n",
    "# http://scikit-learn.org/stable/auto_examples/model_selection/plot_confusion_matrix.html\n",
    "plt.matshow(knn_confusion_matrix, cmap = plt.cm.Blues)\n",
    "plt.title(\"KNN Confusion Matrix\\n\")\n",
    "#plt.xticks([0,1], ['No', 'Yes'])\n",
    "#plt.yticks([0,1], ['No', 'Yes'])\n",
    "plt.ylabel('True label')\n",
    "plt.xlabel('Predicted label')\n",
    "for y in range(knn_confusion_matrix.shape[0]):\n",
    "    for x in range(knn_confusion_matrix.shape[1]):\n",
    "        plt.text(x, y, '{}'.format(knn_confusion_matrix[y, x]),\n",
    "                horizontalalignment = 'center',\n",
    "                verticalalignment = 'center',)\n",
    "plt.show()"
   ]
  },
  {
   "cell_type": "markdown",
   "metadata": {},
   "source": [
    "### d. Classification Report"
   ]
  },
  {
   "cell_type": "code",
   "execution_count": 98,
   "metadata": {
    "collapsed": false
   },
   "outputs": [
    {
     "name": "stdout",
     "output_type": "stream",
     "text": [
      "             precision    recall  f1-score   support\n",
      "\n",
      "Charged Off       0.69      0.12      0.20       663\n",
      "    Current       0.80      0.96      0.88      9101\n",
      "    Default       0.00      0.00      0.00        20\n",
      "Does not meet the credit policy. Status:Charged Off       0.00      0.00      0.00         7\n",
      "Does not meet the credit policy. Status:Fully Paid       0.00      0.00      0.00        24\n",
      " Fully Paid       0.81      0.60      0.69      3069\n",
      "In Grace Period       0.00      0.00      0.00        95\n",
      "     Issued       0.00      0.00      0.00       147\n",
      "Late (16-30 days)       0.00      0.00      0.00        39\n",
      "Late (31-120 days)       0.00      0.00      0.00       146\n",
      "\n",
      "avg / total       0.77      0.80      0.77     13311\n",
      "\n"
     ]
    },
    {
     "name": "stderr",
     "output_type": "stream",
     "text": [
      "/Users/jasminedumas/anaconda/lib/python3.5/site-packages/sklearn/metrics/classification.py:1074: UndefinedMetricWarning: Precision and F-score are ill-defined and being set to 0.0 in labels with no predicted samples.\n",
      "  'precision', 'predicted', average, warn_for)\n"
     ]
    }
   ],
   "source": [
    "#Generate the classification report\n",
    "from sklearn.metrics import classification_report\n",
    "knn_classify_report = classification_report(y_true = y_test, \n",
    "                                           y_pred = data_knn.predict(x_test))\n",
    "print(knn_classify_report)"
   ]
  },
  {
   "cell_type": "markdown",
   "metadata": {
    "collapsed": true
   },
   "source": [
    "___\n",
    "fin."
   ]
  },
  {
   "cell_type": "code",
   "execution_count": null,
   "metadata": {
    "collapsed": true
   },
   "outputs": [],
   "source": []
  }
 ],
 "metadata": {
  "anaconda-cloud": {},
  "kernelspec": {
   "display_name": "Python [default]",
   "language": "python",
   "name": "python3"
  },
  "language_info": {
   "codemirror_mode": {
    "name": "ipython",
    "version": 3
   },
   "file_extension": ".py",
   "mimetype": "text/x-python",
   "name": "python",
   "nbconvert_exporter": "python",
   "pygments_lexer": "ipython3",
   "version": "3.5.2"
  }
 },
 "nbformat": 4,
 "nbformat_minor": 0
}
