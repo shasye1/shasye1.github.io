{
 "cells": [
  {
   "cell_type": "code",
   "execution_count": 31,
   "metadata": {
    "collapsed": true
   },
   "outputs": [],
   "source": [
    "# initial parameters\n",
    "\n",
    "%matplotlib inline\n",
    "# -*- coding: utf-8 -*-\n",
    "#from pandas import Series, DataFrame\n",
    "import pandas as pd\n",
    "import numpy as np\n",
    "import matplotlib.pylab as plt\n",
    "from sklearn.cross_validation import train_test_split\n",
    "from sklearn.linear_model import LassoLarsCV"
   ]
  },
  {
   "cell_type": "markdown",
   "metadata": {},
   "source": [
    "### Load the Data set\n",
    "The dataset has been preprocessed in R (3.2.5) to create a design matrix for the categorical / character variables as its less overhead in R than python. "
   ]
  },
  {
   "cell_type": "code",
   "execution_count": 32,
   "metadata": {
    "collapsed": true
   },
   "outputs": [],
   "source": [
    "data = pd.read_csv(\"C:/Users/JD87417/Desktop/python work/Coursera/forest_fires.csv\")"
   ]
  },
  {
   "cell_type": "markdown",
   "metadata": {},
   "source": [
    "### Summary Statisitcs of the loaded dataset"
   ]
  },
  {
   "cell_type": "code",
   "execution_count": 33,
   "metadata": {
    "collapsed": false
   },
   "outputs": [
    {
     "data": {
      "text/html": [
       "<div>\n",
       "<table border=\"1\" class=\"dataframe\">\n",
       "  <thead>\n",
       "    <tr style=\"text-align: right;\">\n",
       "      <th></th>\n",
       "      <th>(INTERCEPT)</th>\n",
       "      <th>X</th>\n",
       "      <th>Y</th>\n",
       "      <th>MONTHAUG</th>\n",
       "      <th>MONTHDEC</th>\n",
       "      <th>MONTHFEB</th>\n",
       "      <th>MONTHJAN</th>\n",
       "      <th>MONTHJUL</th>\n",
       "      <th>MONTHJUN</th>\n",
       "      <th>MONTHMAR</th>\n",
       "      <th>...</th>\n",
       "      <th>DAYWED</th>\n",
       "      <th>FFMC</th>\n",
       "      <th>DMC</th>\n",
       "      <th>DC</th>\n",
       "      <th>ISI</th>\n",
       "      <th>TEMP</th>\n",
       "      <th>RH</th>\n",
       "      <th>WIND</th>\n",
       "      <th>RAIN</th>\n",
       "      <th>AREA</th>\n",
       "    </tr>\n",
       "  </thead>\n",
       "  <tbody>\n",
       "    <tr>\n",
       "      <th>count</th>\n",
       "      <td>517.0</td>\n",
       "      <td>517.000000</td>\n",
       "      <td>517.000000</td>\n",
       "      <td>517.000000</td>\n",
       "      <td>517.000000</td>\n",
       "      <td>517.000000</td>\n",
       "      <td>517.000000</td>\n",
       "      <td>517.000000</td>\n",
       "      <td>517.000000</td>\n",
       "      <td>517.000000</td>\n",
       "      <td>...</td>\n",
       "      <td>517.000000</td>\n",
       "      <td>517.000000</td>\n",
       "      <td>517.000000</td>\n",
       "      <td>517.000000</td>\n",
       "      <td>517.000000</td>\n",
       "      <td>517.000000</td>\n",
       "      <td>517.000000</td>\n",
       "      <td>517.000000</td>\n",
       "      <td>517.000000</td>\n",
       "      <td>517.000000</td>\n",
       "    </tr>\n",
       "    <tr>\n",
       "      <th>mean</th>\n",
       "      <td>1.0</td>\n",
       "      <td>4.669246</td>\n",
       "      <td>4.299807</td>\n",
       "      <td>0.355899</td>\n",
       "      <td>0.017408</td>\n",
       "      <td>0.038685</td>\n",
       "      <td>0.003868</td>\n",
       "      <td>0.061896</td>\n",
       "      <td>0.032882</td>\n",
       "      <td>0.104449</td>\n",
       "      <td>...</td>\n",
       "      <td>0.104449</td>\n",
       "      <td>90.644681</td>\n",
       "      <td>110.872340</td>\n",
       "      <td>547.940039</td>\n",
       "      <td>9.021663</td>\n",
       "      <td>18.889168</td>\n",
       "      <td>44.288201</td>\n",
       "      <td>4.017602</td>\n",
       "      <td>0.021663</td>\n",
       "      <td>12.847292</td>\n",
       "    </tr>\n",
       "    <tr>\n",
       "      <th>std</th>\n",
       "      <td>0.0</td>\n",
       "      <td>2.313778</td>\n",
       "      <td>1.229900</td>\n",
       "      <td>0.479249</td>\n",
       "      <td>0.130913</td>\n",
       "      <td>0.193029</td>\n",
       "      <td>0.062137</td>\n",
       "      <td>0.241199</td>\n",
       "      <td>0.178500</td>\n",
       "      <td>0.306138</td>\n",
       "      <td>...</td>\n",
       "      <td>0.306138</td>\n",
       "      <td>5.520111</td>\n",
       "      <td>64.046482</td>\n",
       "      <td>248.066192</td>\n",
       "      <td>4.559477</td>\n",
       "      <td>5.806625</td>\n",
       "      <td>16.317469</td>\n",
       "      <td>1.791653</td>\n",
       "      <td>0.295959</td>\n",
       "      <td>63.655818</td>\n",
       "    </tr>\n",
       "    <tr>\n",
       "      <th>min</th>\n",
       "      <td>1.0</td>\n",
       "      <td>1.000000</td>\n",
       "      <td>2.000000</td>\n",
       "      <td>0.000000</td>\n",
       "      <td>0.000000</td>\n",
       "      <td>0.000000</td>\n",
       "      <td>0.000000</td>\n",
       "      <td>0.000000</td>\n",
       "      <td>0.000000</td>\n",
       "      <td>0.000000</td>\n",
       "      <td>...</td>\n",
       "      <td>0.000000</td>\n",
       "      <td>18.700000</td>\n",
       "      <td>1.100000</td>\n",
       "      <td>7.900000</td>\n",
       "      <td>0.000000</td>\n",
       "      <td>2.200000</td>\n",
       "      <td>15.000000</td>\n",
       "      <td>0.400000</td>\n",
       "      <td>0.000000</td>\n",
       "      <td>0.000000</td>\n",
       "    </tr>\n",
       "    <tr>\n",
       "      <th>25%</th>\n",
       "      <td>1.0</td>\n",
       "      <td>3.000000</td>\n",
       "      <td>4.000000</td>\n",
       "      <td>0.000000</td>\n",
       "      <td>0.000000</td>\n",
       "      <td>0.000000</td>\n",
       "      <td>0.000000</td>\n",
       "      <td>0.000000</td>\n",
       "      <td>0.000000</td>\n",
       "      <td>0.000000</td>\n",
       "      <td>...</td>\n",
       "      <td>0.000000</td>\n",
       "      <td>90.200000</td>\n",
       "      <td>68.600000</td>\n",
       "      <td>437.700000</td>\n",
       "      <td>6.500000</td>\n",
       "      <td>15.500000</td>\n",
       "      <td>33.000000</td>\n",
       "      <td>2.700000</td>\n",
       "      <td>0.000000</td>\n",
       "      <td>0.000000</td>\n",
       "    </tr>\n",
       "    <tr>\n",
       "      <th>50%</th>\n",
       "      <td>1.0</td>\n",
       "      <td>4.000000</td>\n",
       "      <td>4.000000</td>\n",
       "      <td>0.000000</td>\n",
       "      <td>0.000000</td>\n",
       "      <td>0.000000</td>\n",
       "      <td>0.000000</td>\n",
       "      <td>0.000000</td>\n",
       "      <td>0.000000</td>\n",
       "      <td>0.000000</td>\n",
       "      <td>...</td>\n",
       "      <td>0.000000</td>\n",
       "      <td>91.600000</td>\n",
       "      <td>108.300000</td>\n",
       "      <td>664.200000</td>\n",
       "      <td>8.400000</td>\n",
       "      <td>19.300000</td>\n",
       "      <td>42.000000</td>\n",
       "      <td>4.000000</td>\n",
       "      <td>0.000000</td>\n",
       "      <td>0.520000</td>\n",
       "    </tr>\n",
       "    <tr>\n",
       "      <th>75%</th>\n",
       "      <td>1.0</td>\n",
       "      <td>7.000000</td>\n",
       "      <td>5.000000</td>\n",
       "      <td>1.000000</td>\n",
       "      <td>0.000000</td>\n",
       "      <td>0.000000</td>\n",
       "      <td>0.000000</td>\n",
       "      <td>0.000000</td>\n",
       "      <td>0.000000</td>\n",
       "      <td>0.000000</td>\n",
       "      <td>...</td>\n",
       "      <td>0.000000</td>\n",
       "      <td>92.900000</td>\n",
       "      <td>142.400000</td>\n",
       "      <td>713.900000</td>\n",
       "      <td>10.800000</td>\n",
       "      <td>22.800000</td>\n",
       "      <td>53.000000</td>\n",
       "      <td>4.900000</td>\n",
       "      <td>0.000000</td>\n",
       "      <td>6.570000</td>\n",
       "    </tr>\n",
       "    <tr>\n",
       "      <th>max</th>\n",
       "      <td>1.0</td>\n",
       "      <td>9.000000</td>\n",
       "      <td>9.000000</td>\n",
       "      <td>1.000000</td>\n",
       "      <td>1.000000</td>\n",
       "      <td>1.000000</td>\n",
       "      <td>1.000000</td>\n",
       "      <td>1.000000</td>\n",
       "      <td>1.000000</td>\n",
       "      <td>1.000000</td>\n",
       "      <td>...</td>\n",
       "      <td>1.000000</td>\n",
       "      <td>96.200000</td>\n",
       "      <td>291.300000</td>\n",
       "      <td>860.600000</td>\n",
       "      <td>56.100000</td>\n",
       "      <td>33.300000</td>\n",
       "      <td>100.000000</td>\n",
       "      <td>9.400000</td>\n",
       "      <td>6.400000</td>\n",
       "      <td>1090.840000</td>\n",
       "    </tr>\n",
       "  </tbody>\n",
       "</table>\n",
       "<p>8 rows × 29 columns</p>\n",
       "</div>"
      ],
      "text/plain": [
       "       (INTERCEPT)           X           Y    MONTHAUG    MONTHDEC  \\\n",
       "count        517.0  517.000000  517.000000  517.000000  517.000000   \n",
       "mean           1.0    4.669246    4.299807    0.355899    0.017408   \n",
       "std            0.0    2.313778    1.229900    0.479249    0.130913   \n",
       "min            1.0    1.000000    2.000000    0.000000    0.000000   \n",
       "25%            1.0    3.000000    4.000000    0.000000    0.000000   \n",
       "50%            1.0    4.000000    4.000000    0.000000    0.000000   \n",
       "75%            1.0    7.000000    5.000000    1.000000    0.000000   \n",
       "max            1.0    9.000000    9.000000    1.000000    1.000000   \n",
       "\n",
       "         MONTHFEB    MONTHJAN    MONTHJUL    MONTHJUN    MONTHMAR  \\\n",
       "count  517.000000  517.000000  517.000000  517.000000  517.000000   \n",
       "mean     0.038685    0.003868    0.061896    0.032882    0.104449   \n",
       "std      0.193029    0.062137    0.241199    0.178500    0.306138   \n",
       "min      0.000000    0.000000    0.000000    0.000000    0.000000   \n",
       "25%      0.000000    0.000000    0.000000    0.000000    0.000000   \n",
       "50%      0.000000    0.000000    0.000000    0.000000    0.000000   \n",
       "75%      0.000000    0.000000    0.000000    0.000000    0.000000   \n",
       "max      1.000000    1.000000    1.000000    1.000000    1.000000   \n",
       "\n",
       "          ...           DAYWED        FFMC         DMC          DC  \\\n",
       "count     ...       517.000000  517.000000  517.000000  517.000000   \n",
       "mean      ...         0.104449   90.644681  110.872340  547.940039   \n",
       "std       ...         0.306138    5.520111   64.046482  248.066192   \n",
       "min       ...         0.000000   18.700000    1.100000    7.900000   \n",
       "25%       ...         0.000000   90.200000   68.600000  437.700000   \n",
       "50%       ...         0.000000   91.600000  108.300000  664.200000   \n",
       "75%       ...         0.000000   92.900000  142.400000  713.900000   \n",
       "max       ...         1.000000   96.200000  291.300000  860.600000   \n",
       "\n",
       "              ISI        TEMP          RH        WIND        RAIN         AREA  \n",
       "count  517.000000  517.000000  517.000000  517.000000  517.000000   517.000000  \n",
       "mean     9.021663   18.889168   44.288201    4.017602    0.021663    12.847292  \n",
       "std      4.559477    5.806625   16.317469    1.791653    0.295959    63.655818  \n",
       "min      0.000000    2.200000   15.000000    0.400000    0.000000     0.000000  \n",
       "25%      6.500000   15.500000   33.000000    2.700000    0.000000     0.000000  \n",
       "50%      8.400000   19.300000   42.000000    4.000000    0.000000     0.520000  \n",
       "75%     10.800000   22.800000   53.000000    4.900000    0.000000     6.570000  \n",
       "max     56.100000   33.300000  100.000000    9.400000    6.400000  1090.840000  \n",
       "\n",
       "[8 rows x 29 columns]"
      ]
     },
     "execution_count": 33,
     "metadata": {},
     "output_type": "execute_result"
    }
   ],
   "source": [
    "# summary statistics including counts, mean, stdev, quartiles\n",
    "data_clean.head(n=5)\n",
    "data_clean.dtypes # data types of each variable\n",
    "data_clean.describe()\n"
   ]
  },
  {
   "cell_type": "markdown",
   "metadata": {},
   "source": [
    "### upper-case all DataFrame column names"
   ]
  },
  {
   "cell_type": "code",
   "execution_count": 34,
   "metadata": {
    "collapsed": true
   },
   "outputs": [],
   "source": [
    "data.columns = map(str.upper, data.columns)"
   ]
  },
  {
   "cell_type": "markdown",
   "metadata": {},
   "source": [
    "### Data Management - remove missing values"
   ]
  },
  {
   "cell_type": "code",
   "execution_count": 35,
   "metadata": {
    "collapsed": true
   },
   "outputs": [],
   "source": [
    "data_clean = data.dropna() # there should be no missing values in this dataset"
   ]
  },
  {
   "cell_type": "markdown",
   "metadata": {},
   "source": [
    "### select predictor variables and target variable as separate data sets  "
   ]
  },
  {
   "cell_type": "code",
   "execution_count": 36,
   "metadata": {
    "collapsed": true
   },
   "outputs": [],
   "source": [
    "predvar= data_clean[[\"X\", \"Y\", \"MONTHAUG\", \"MONTHDEC\", \"MONTHFEB\", \n",
    "\"MONTHJAN\", \"MONTHJUL\", \"MONTHJUN\", \"MONTHMAR\", \"MONTHMAY\", \"MONTHNOV\", \n",
    "\"MONTHOCT\", \"MONTHSEP\", \"DAYMON\", \"DAYSAT\", \"DAYSUN\", \"DAYTHU\", \n",
    "\"DAYTUE\", \"DAYWED\", \"FFMC\", \"DMC\", \"DC\", \"ISI\", \"TEMP\", \"RH\", \n",
    "\"WIND\", \"RAIN\"]]"
   ]
  },
  {
   "cell_type": "code",
   "execution_count": 37,
   "metadata": {
    "collapsed": true
   },
   "outputs": [],
   "source": [
    "target = data_clean.AREA"
   ]
  },
  {
   "cell_type": "markdown",
   "metadata": {},
   "source": [
    "### standardize predictors to have mean=0 and sd=1"
   ]
  },
  {
   "cell_type": "code",
   "execution_count": 38,
   "metadata": {
    "collapsed": true
   },
   "outputs": [],
   "source": [
    "predictors=predvar.copy()\n",
    "from sklearn import preprocessing\n",
    "predictors['X']=preprocessing.scale(predictors['X'].astype('float64'))\n",
    "predictors['Y']=preprocessing.scale(predictors['Y'].astype('float64'))\n",
    "predictors['MONTHAUG']=preprocessing.scale(predictors['MONTHAUG'].astype('float64'))\n",
    "predictors['MONTHDEC']=preprocessing.scale(predictors['MONTHDEC'].astype('float64'))\n",
    "predictors['MONTHFEB']=preprocessing.scale(predictors['MONTHFEB'].astype('float64'))\n",
    "predictors['MONTHJAN']=preprocessing.scale(predictors['MONTHJAN'].astype('float64'))\n",
    "predictors['MONTHJUL']=preprocessing.scale(predictors['MONTHJUL'].astype('float64'))\n",
    "predictors['MONTHJUN']=preprocessing.scale(predictors['MONTHJUN'].astype('float64'))\n",
    "predictors['MONTHMAR']=preprocessing.scale(predictors['MONTHMAR'].astype('float64'))\n",
    "predictors['MONTHMAY']=preprocessing.scale(predictors['MONTHMAY'].astype('float64'))\n",
    "predictors['MONTHNOV']=preprocessing.scale(predictors['MONTHNOV'].astype('float64'))\n",
    "predictors['MONTHOCT']=preprocessing.scale(predictors['MONTHOCT'].astype('float64'))\n",
    "predictors['MONTHSEP']=preprocessing.scale(predictors['MONTHSEP'].astype('float64'))\n",
    "predictors['DAYMON']=preprocessing.scale(predictors['DAYMON'].astype('float64'))\n",
    "predictors['DAYSAT']=preprocessing.scale(predictors['DAYSAT'].astype('float64'))\n",
    "predictors['DAYSUN']=preprocessing.scale(predictors['DAYSUN'].astype('float64'))\n",
    "predictors['DAYTHU']=preprocessing.scale(predictors['DAYTHU'].astype('float64'))\n",
    "predictors['DAYTUE']=preprocessing.scale(predictors['DAYTUE'].astype('float64'))\n",
    "predictors['DAYWED']=preprocessing.scale(predictors['DAYWED'].astype('float64'))\n",
    "predictors['FFMC']=preprocessing.scale(predictors['FFMC'].astype('float64'))\n",
    "predictors['DMC']=preprocessing.scale(predictors['DMC'].astype('float64'))\n",
    "predictors['DC']=preprocessing.scale(predictors['DC'].astype('float64'))\n",
    "predictors['ISI']=preprocessing.scale(predictors['ISI'].astype('float64'))\n",
    "predictors['TEMP']=preprocessing.scale(predictors['TEMP'].astype('float64'))\n",
    "predictors['RH']=preprocessing.scale(predictors['RH'].astype('float64'))\n",
    "predictors['WIND']=preprocessing.scale(predictors['WIND'].astype('float64'))\n",
    "predictors['RAIN']=preprocessing.scale(predictors['RAIN'].astype('float64'))"
   ]
  },
  {
   "cell_type": "markdown",
   "metadata": {},
   "source": [
    "### split data into train and test sets"
   ]
  },
  {
   "cell_type": "code",
   "execution_count": 39,
   "metadata": {
    "collapsed": true
   },
   "outputs": [],
   "source": [
    "pred_train, pred_test, tar_train, tar_test = train_test_split(predictors, target, \n",
    "                                                              test_size=.3, random_state=123)"
   ]
  },
  {
   "cell_type": "markdown",
   "metadata": {},
   "source": [
    "### specify the lasso regression model\n",
    "The amount of folds we are using is 10"
   ]
  },
  {
   "cell_type": "code",
   "execution_count": 40,
   "metadata": {
    "collapsed": false
   },
   "outputs": [
    {
     "name": "stderr",
     "output_type": "stream",
     "text": [
      "C:\\Users\\JD87417\\AppData\\Local\\Continuum\\Anaconda3\\lib\\site-packages\\sklearn\\linear_model\\least_angle.py:334: ConvergenceWarning: Early stopping the lars path, as the residues are small and the current value of alpha is no longer well controlled. 41 iterations, alpha=2.997e-03, previous alpha=2.972e-03, with an active set of 26 regressors.\n",
      "  ConvergenceWarning)\n"
     ]
    }
   ],
   "source": [
    "model=LassoLarsCV(cv=10, precompute=False).fit(pred_train,tar_train)"
   ]
  },
  {
   "cell_type": "markdown",
   "metadata": {},
   "source": [
    "### print variable names and regression coefficients"
   ]
  },
  {
   "cell_type": "code",
   "execution_count": 41,
   "metadata": {
    "collapsed": false
   },
   "outputs": [
    {
     "data": {
      "text/plain": [
       "{'DAYMON': 0.0,\n",
       " 'DAYSAT': 2.6019531408926118,\n",
       " 'DAYSUN': 0.0,\n",
       " 'DAYTHU': 0.0,\n",
       " 'DAYTUE': 0.0,\n",
       " 'DAYWED': 0.0,\n",
       " 'DC': 0.0,\n",
       " 'DMC': 0.0,\n",
       " 'FFMC': 0.0,\n",
       " 'ISI': 0.0,\n",
       " 'MONTHAUG': 0.0,\n",
       " 'MONTHDEC': 0.0,\n",
       " 'MONTHFEB': 0.0,\n",
       " 'MONTHJAN': 0.0,\n",
       " 'MONTHJUL': 0.0,\n",
       " 'MONTHJUN': 0.0,\n",
       " 'MONTHMAR': 0.0,\n",
       " 'MONTHMAY': 0.0,\n",
       " 'MONTHNOV': 0.0,\n",
       " 'MONTHOCT': 0.0,\n",
       " 'MONTHSEP': 0.0,\n",
       " 'RAIN': 0.0,\n",
       " 'RH': 0.0,\n",
       " 'TEMP': 5.5119500142714015,\n",
       " 'WIND': 0.0,\n",
       " 'X': 4.0507948103826203,\n",
       " 'Y': 0.0}"
      ]
     },
     "execution_count": 41,
     "metadata": {},
     "output_type": "execute_result"
    }
   ],
   "source": [
    "dict(zip(predictors.columns, model.coef_))"
   ]
  },
  {
   "cell_type": "markdown",
   "metadata": {},
   "source": [
    "### plot coefficient progression"
   ]
  },
  {
   "cell_type": "code",
   "execution_count": 42,
   "metadata": {
    "collapsed": false
   },
   "outputs": [
    {
     "data": {
      "text/plain": [
       "<matplotlib.text.Text at 0xbea72e8>"
      ]
     },
     "execution_count": 42,
     "metadata": {},
     "output_type": "execute_result"
    },
    {
     "data": {
      "image/png": "[encoded data removed]",
      "text/plain": [
       "<matplotlib.figure.Figure at 0xbe71e80>"
      ]
     },
     "metadata": {},
     "output_type": "display_data"
    }
   ],
   "source": [
    "m_log_alphas = -np.log10(model.alphas_)\n",
    "ax = plt.gca()\n",
    "plt.plot(m_log_alphas, model.coef_path_.T)\n",
    "plt.axvline(-np.log10(model.alpha_), linestyle='--', color='k',\n",
    "            label='alpha CV')\n",
    "plt.ylabel('Regression Coefficients')\n",
    "plt.xlabel('-log(alpha)')\n",
    "plt.title('Regression Coefficients Progression for Lasso Paths')"
   ]
  },
  {
   "cell_type": "markdown",
   "metadata": {},
   "source": [
    "### plot mean square error for each fold"
   ]
  },
  {
   "cell_type": "code",
   "execution_count": 43,
   "metadata": {
    "collapsed": false
   },
   "outputs": [
    {
     "data": {
      "text/plain": [
       "<matplotlib.text.Text at 0xc3a61d0>"
      ]
     },
     "execution_count": 43,
     "metadata": {},
     "output_type": "execute_result"
    },
    {
     "data": {
      "image/png": "[encoded data removed]",
      "text/plain": [
       "<matplotlib.figure.Figure at 0xbe57160>"
      ]
     },
     "metadata": {},
     "output_type": "display_data"
    }
   ],
   "source": [
    "m_log_alphascv = -np.log10(model.cv_alphas_)\n",
    "plt.figure()\n",
    "plt.plot(m_log_alphascv, model.cv_mse_path_, ':')\n",
    "plt.plot(m_log_alphascv, model.cv_mse_path_.mean(axis=-1), 'k',\n",
    "         label='Average across the folds', linewidth=2)\n",
    "plt.axvline(-np.log10(model.alpha_), linestyle='--', color='k',\n",
    "            label='alpha CV')\n",
    "plt.legend()\n",
    "plt.xlabel('-log(alpha)')\n",
    "plt.ylabel('Mean squared error')\n",
    "plt.title('Mean squared error on each fold')"
   ]
  },
  {
   "cell_type": "markdown",
   "metadata": {},
   "source": [
    "### MSE from training and test data"
   ]
  },
  {
   "cell_type": "code",
   "execution_count": 44,
   "metadata": {
    "collapsed": false
   },
   "outputs": [
    {
     "name": "stdout",
     "output_type": "stream",
     "text": [
      "training data MSE\n",
      "5383.21157649\n",
      "test data MSE\n",
      "704.656477226\n"
     ]
    }
   ],
   "source": [
    "from sklearn.metrics import mean_squared_error\n",
    "train_error = mean_squared_error(tar_train, model.predict(pred_train))\n",
    "test_error = mean_squared_error(tar_test, model.predict(pred_test))\n",
    "print ('training data MSE')\n",
    "print(train_error)\n",
    "print ('test data MSE')\n",
    "print(test_error)"
   ]
  },
  {
   "cell_type": "markdown",
   "metadata": {},
   "source": [
    "### R-square from training and test data"
   ]
  },
  {
   "cell_type": "code",
   "execution_count": 45,
   "metadata": {
    "collapsed": false
   },
   "outputs": [
    {
     "name": "stdout",
     "output_type": "stream",
     "text": [
      "training data R-square\n",
      "0.0277852532295\n",
      "test data R-square\n",
      "-0.268319169494\n"
     ]
    }
   ],
   "source": [
    "rsquared_train=model.score(pred_train,tar_train)\n",
    "rsquared_test=model.score(pred_test,tar_test)\n",
    "print ('training data R-square')\n",
    "print(rsquared_train)\n",
    "print ('test data R-square')\n",
    "print(rsquared_test)"
   ]
  }
 ],
 "metadata": {
  "kernelspec": {
   "display_name": "Python 3",
   "language": "python",
   "name": "python3"
  },
  "language_info": {
   "codemirror_mode": {
    "name": "ipython",
    "version": 3
   },
   "file_extension": ".py",
   "mimetype": "text/x-python",
   "name": "python",
   "nbconvert_exporter": "python",
   "pygments_lexer": "ipython3",
   "version": "3.5.1"
  }
 },
 "nbformat": 4,
 "nbformat_minor": 0
}
